{
  "cells": [
    {
      "cell_type": "markdown",
      "metadata": {
        "id": "6pJrExmHsuzq"
      },
      "source": [
        "*This is a copy of this [official tutorial](https://colab.research.google.com/github/tensorflow/models/blob/master/research/object_detection/colab_tutorials/eager_few_shot_od_training_tf2_colab.ipynb) with minimal revisions in the `Imports` section to make it work with more recent versions of Tensorflow.*"
      ]
    },
    {
      "cell_type": "markdown",
      "metadata": {
        "id": "rOvvWAVTkMR7"
      },
      "source": [
        "# Eager Few Shot Object Detection Colab\n",
        "\n",
        "Welcome to the Eager Few Shot Object Detection Colab --- in this colab we demonstrate fine tuning of a (TF2 friendly) RetinaNet architecture on very few examples of a novel class after initializing from a pre-trained COCO checkpoint.\n",
        "Training runs in eager mode.\n",
        "\n",
        "Estimated time to run through this colab (with GPU): < 5 minutes."
      ]
    },
    {
      "cell_type": "markdown",
      "metadata": {
        "id": "vPs64QA1Zdov"
      },
      "source": [
        "## Imports"
      ]
    },
    {
      "cell_type": "code",
      "execution_count": 1,
      "metadata": {
        "id": "oi28cqGGFWnY"
      },
      "outputs": [],
      "source": [
        "import os\n",
        "import pathlib\n",
        "\n",
        "# Clone the tensorflow models repository if it doesn't already exist\n",
        "if \"models\" in pathlib.Path.cwd().parts:\n",
        "  while \"models\" in pathlib.Path.cwd().parts:\n",
        "    os.chdir('..')\n",
        "elif not pathlib.Path('models').exists():\n",
        "  !git clone --depth 1 https://github.com/tensorflow/models"
      ]
    },
    {
      "cell_type": "code",
      "execution_count": 2,
      "metadata": {
        "id": "NwdsBdGhFanc"
      },
      "outputs": [
        {
          "name": "stdout",
          "output_type": "stream",
          "text": [
            "/Users/abrarhayat/advanced_cv/notebooks/w2/models/research\n",
            "Processing /Users/abrarhayat/advanced_cv/notebooks/w2/models/research\n",
            "  Preparing metadata (setup.py) ... \u001b[?25ldone\n",
            "\u001b[?25hRequirement already satisfied: avro-python3 in /Users/abrarhayat/miniconda3/envs/tfo/lib/python3.8/site-packages (from object-detection==0.1) (1.10.2)\n",
            "Requirement already satisfied: apache-beam in /Users/abrarhayat/miniconda3/envs/tfo/lib/python3.8/site-packages (from object-detection==0.1) (2.54.0)\n",
            "Requirement already satisfied: pillow in /Users/abrarhayat/miniconda3/envs/tfo/lib/python3.8/site-packages (from object-detection==0.1) (10.2.0)\n",
            "Requirement already satisfied: lxml in /Users/abrarhayat/miniconda3/envs/tfo/lib/python3.8/site-packages (from object-detection==0.1) (5.1.0)\n",
            "Requirement already satisfied: matplotlib in /Users/abrarhayat/miniconda3/envs/tfo/lib/python3.8/site-packages (from object-detection==0.1) (3.7.5)\n",
            "Requirement already satisfied: Cython in /Users/abrarhayat/miniconda3/envs/tfo/lib/python3.8/site-packages (from object-detection==0.1) (3.0.8)\n",
            "Requirement already satisfied: contextlib2 in /Users/abrarhayat/miniconda3/envs/tfo/lib/python3.8/site-packages (from object-detection==0.1) (21.6.0)\n",
            "Requirement already satisfied: tf-slim in /Users/abrarhayat/miniconda3/envs/tfo/lib/python3.8/site-packages (from object-detection==0.1) (1.1.0)\n",
            "Requirement already satisfied: six in /Users/abrarhayat/miniconda3/envs/tfo/lib/python3.8/site-packages (from object-detection==0.1) (1.16.0)\n",
            "Requirement already satisfied: pycocotools in /Users/abrarhayat/miniconda3/envs/tfo/lib/python3.8/site-packages (from object-detection==0.1) (2.0.7)\n",
            "Requirement already satisfied: lvis in /Users/abrarhayat/miniconda3/envs/tfo/lib/python3.8/site-packages (from object-detection==0.1) (0.5.3)\n",
            "Requirement already satisfied: scipy in /Users/abrarhayat/miniconda3/envs/tfo/lib/python3.8/site-packages (from object-detection==0.1) (1.10.1)\n",
            "Requirement already satisfied: pandas in /Users/abrarhayat/miniconda3/envs/tfo/lib/python3.8/site-packages (from object-detection==0.1) (2.0.3)\n",
            "Requirement already satisfied: tf-models-official>=2.5.1 in /Users/abrarhayat/miniconda3/envs/tfo/lib/python3.8/site-packages (from object-detection==0.1) (2.5.1)\n",
            "Requirement already satisfied: tensorflow_io in /Users/abrarhayat/miniconda3/envs/tfo/lib/python3.8/site-packages (from object-detection==0.1) (0.34.0)\n",
            "Requirement already satisfied: keras in /Users/abrarhayat/miniconda3/envs/tfo/lib/python3.8/site-packages (from object-detection==0.1) (2.13.1)\n",
            "Requirement already satisfied: pyparsing==2.4.7 in /Users/abrarhayat/miniconda3/envs/tfo/lib/python3.8/site-packages (from object-detection==0.1) (2.4.7)\n",
            "Requirement already satisfied: sacrebleu<=2.2.0 in /Users/abrarhayat/miniconda3/envs/tfo/lib/python3.8/site-packages (from object-detection==0.1) (2.2.0)\n",
            "Requirement already satisfied: portalocker in /Users/abrarhayat/miniconda3/envs/tfo/lib/python3.8/site-packages (from sacrebleu<=2.2.0->object-detection==0.1) (2.8.2)\n",
            "Requirement already satisfied: regex in /Users/abrarhayat/miniconda3/envs/tfo/lib/python3.8/site-packages (from sacrebleu<=2.2.0->object-detection==0.1) (2023.12.25)\n",
            "Requirement already satisfied: tabulate>=0.8.9 in /Users/abrarhayat/miniconda3/envs/tfo/lib/python3.8/site-packages (from sacrebleu<=2.2.0->object-detection==0.1) (0.9.0)\n",
            "Requirement already satisfied: numpy>=1.17 in /Users/abrarhayat/miniconda3/envs/tfo/lib/python3.8/site-packages (from sacrebleu<=2.2.0->object-detection==0.1) (1.24.3)\n",
            "Requirement already satisfied: colorama in /Users/abrarhayat/miniconda3/envs/tfo/lib/python3.8/site-packages (from sacrebleu<=2.2.0->object-detection==0.1) (0.4.6)\n",
            "Requirement already satisfied: gin-config in /Users/abrarhayat/miniconda3/envs/tfo/lib/python3.8/site-packages (from tf-models-official>=2.5.1->object-detection==0.1) (0.5.0)\n",
            "Requirement already satisfied: google-api-python-client>=1.6.7 in /Users/abrarhayat/miniconda3/envs/tfo/lib/python3.8/site-packages (from tf-models-official>=2.5.1->object-detection==0.1) (2.118.0)\n",
            "Requirement already satisfied: kaggle>=1.3.9 in /Users/abrarhayat/miniconda3/envs/tfo/lib/python3.8/site-packages (from tf-models-official>=2.5.1->object-detection==0.1) (1.6.6)\n",
            "Requirement already satisfied: oauth2client in /Users/abrarhayat/miniconda3/envs/tfo/lib/python3.8/site-packages (from tf-models-official>=2.5.1->object-detection==0.1) (4.1.3)\n",
            "Requirement already satisfied: opencv-python-headless in /Users/abrarhayat/miniconda3/envs/tfo/lib/python3.8/site-packages (from tf-models-official>=2.5.1->object-detection==0.1) (4.9.0.80)\n",
            "Requirement already satisfied: psutil>=5.4.3 in /Users/abrarhayat/miniconda3/envs/tfo/lib/python3.8/site-packages (from tf-models-official>=2.5.1->object-detection==0.1) (5.9.0)\n",
            "Requirement already satisfied: py-cpuinfo>=3.3.0 in /Users/abrarhayat/miniconda3/envs/tfo/lib/python3.8/site-packages (from tf-models-official>=2.5.1->object-detection==0.1) (9.0.0)\n",
            "Requirement already satisfied: pyyaml>=5.1 in /Users/abrarhayat/miniconda3/envs/tfo/lib/python3.8/site-packages (from tf-models-official>=2.5.1->object-detection==0.1) (5.3.1)\n",
            "Requirement already satisfied: sentencepiece in /Users/abrarhayat/miniconda3/envs/tfo/lib/python3.8/site-packages (from tf-models-official>=2.5.1->object-detection==0.1) (0.1.99)\n",
            "Requirement already satisfied: seqeval in /Users/abrarhayat/miniconda3/envs/tfo/lib/python3.8/site-packages (from tf-models-official>=2.5.1->object-detection==0.1) (1.2.2)\n",
            "Requirement already satisfied: tensorflow-addons in /Users/abrarhayat/miniconda3/envs/tfo/lib/python3.8/site-packages (from tf-models-official>=2.5.1->object-detection==0.1) (0.21.0)\n",
            "Requirement already satisfied: tensorflow-datasets in /Users/abrarhayat/miniconda3/envs/tfo/lib/python3.8/site-packages (from tf-models-official>=2.5.1->object-detection==0.1) (4.9.2)\n",
            "Requirement already satisfied: tensorflow-hub>=0.6.0 in /Users/abrarhayat/miniconda3/envs/tfo/lib/python3.8/site-packages (from tf-models-official>=2.5.1->object-detection==0.1) (0.16.1)\n",
            "Requirement already satisfied: tensorflow-model-optimization>=0.4.1 in /Users/abrarhayat/miniconda3/envs/tfo/lib/python3.8/site-packages (from tf-models-official>=2.5.1->object-detection==0.1) (0.8.0)\n",
            "Requirement already satisfied: tensorflow>=2.5.0 in /Users/abrarhayat/miniconda3/envs/tfo/lib/python3.8/site-packages (from tf-models-official>=2.5.1->object-detection==0.1) (2.13.0)\n",
            "Requirement already satisfied: python-dateutil>=2.8.2 in /Users/abrarhayat/miniconda3/envs/tfo/lib/python3.8/site-packages (from pandas->object-detection==0.1) (2.8.2)\n",
            "Requirement already satisfied: pytz>=2020.1 in /Users/abrarhayat/miniconda3/envs/tfo/lib/python3.8/site-packages (from pandas->object-detection==0.1) (2024.1)\n",
            "Requirement already satisfied: tzdata>=2022.1 in /Users/abrarhayat/miniconda3/envs/tfo/lib/python3.8/site-packages (from pandas->object-detection==0.1) (2024.1)\n",
            "Requirement already satisfied: absl-py>=0.2.2 in /Users/abrarhayat/miniconda3/envs/tfo/lib/python3.8/site-packages (from tf-slim->object-detection==0.1) (1.4.0)\n",
            "Requirement already satisfied: crcmod<2.0,>=1.7 in /Users/abrarhayat/miniconda3/envs/tfo/lib/python3.8/site-packages (from apache-beam->object-detection==0.1) (1.7)\n",
            "Requirement already satisfied: orjson<4,>=3.9.7 in /Users/abrarhayat/miniconda3/envs/tfo/lib/python3.8/site-packages (from apache-beam->object-detection==0.1) (3.9.14)\n",
            "Requirement already satisfied: dill<0.3.2,>=0.3.1.1 in /Users/abrarhayat/miniconda3/envs/tfo/lib/python3.8/site-packages (from apache-beam->object-detection==0.1) (0.3.1.1)\n",
            "Requirement already satisfied: cloudpickle~=2.2.1 in /Users/abrarhayat/miniconda3/envs/tfo/lib/python3.8/site-packages (from apache-beam->object-detection==0.1) (2.2.1)\n",
            "Requirement already satisfied: fastavro<2,>=0.23.6 in /Users/abrarhayat/miniconda3/envs/tfo/lib/python3.8/site-packages (from apache-beam->object-detection==0.1) (1.9.4)\n",
            "Requirement already satisfied: fasteners<1.0,>=0.3 in /Users/abrarhayat/miniconda3/envs/tfo/lib/python3.8/site-packages (from apache-beam->object-detection==0.1) (0.19)\n",
            "Requirement already satisfied: grpcio!=1.48.0,<2,>=1.33.1 in /Users/abrarhayat/miniconda3/envs/tfo/lib/python3.8/site-packages (from apache-beam->object-detection==0.1) (1.60.1)\n",
            "Requirement already satisfied: hdfs<3.0.0,>=2.1.0 in /Users/abrarhayat/miniconda3/envs/tfo/lib/python3.8/site-packages (from apache-beam->object-detection==0.1) (2.7.3)\n",
            "Requirement already satisfied: httplib2<0.23.0,>=0.8 in /Users/abrarhayat/miniconda3/envs/tfo/lib/python3.8/site-packages (from apache-beam->object-detection==0.1) (0.22.0)\n",
            "Requirement already satisfied: js2py<1,>=0.74 in /Users/abrarhayat/miniconda3/envs/tfo/lib/python3.8/site-packages (from apache-beam->object-detection==0.1) (0.74)\n",
            "Requirement already satisfied: jsonschema<5.0.0,>=4.0.0 in /Users/abrarhayat/miniconda3/envs/tfo/lib/python3.8/site-packages (from apache-beam->object-detection==0.1) (4.21.1)\n",
            "Requirement already satisfied: jsonpickle<4.0.0,>=3.0.0 in /Users/abrarhayat/miniconda3/envs/tfo/lib/python3.8/site-packages (from apache-beam->object-detection==0.1) (3.0.2)\n",
            "Requirement already satisfied: objsize<0.8.0,>=0.6.1 in /Users/abrarhayat/miniconda3/envs/tfo/lib/python3.8/site-packages (from apache-beam->object-detection==0.1) (0.7.0)\n",
            "Requirement already satisfied: packaging>=22.0 in /Users/abrarhayat/miniconda3/envs/tfo/lib/python3.8/site-packages (from apache-beam->object-detection==0.1) (23.2)\n",
            "Requirement already satisfied: pymongo<5.0.0,>=3.8.0 in /Users/abrarhayat/miniconda3/envs/tfo/lib/python3.8/site-packages (from apache-beam->object-detection==0.1) (4.6.1)\n",
            "Requirement already satisfied: proto-plus<2,>=1.7.1 in /Users/abrarhayat/miniconda3/envs/tfo/lib/python3.8/site-packages (from apache-beam->object-detection==0.1) (1.23.0)\n",
            "Requirement already satisfied: protobuf!=4.0.*,!=4.21.*,!=4.22.0,!=4.23.*,!=4.24.*,<4.26.0,>=3.20.3 in /Users/abrarhayat/miniconda3/envs/tfo/lib/python3.8/site-packages (from apache-beam->object-detection==0.1) (3.20.3)\n",
            "Requirement already satisfied: pydot<2,>=1.2.0 in /Users/abrarhayat/miniconda3/envs/tfo/lib/python3.8/site-packages (from apache-beam->object-detection==0.1) (1.4.2)\n",
            "Requirement already satisfied: requests<3.0.0,>=2.24.0 in /Users/abrarhayat/miniconda3/envs/tfo/lib/python3.8/site-packages (from apache-beam->object-detection==0.1) (2.31.0)\n",
            "Requirement already satisfied: typing-extensions>=3.7.0 in /Users/abrarhayat/miniconda3/envs/tfo/lib/python3.8/site-packages (from apache-beam->object-detection==0.1) (4.5.0)\n",
            "Requirement already satisfied: zstandard<1,>=0.18.0 in /Users/abrarhayat/miniconda3/envs/tfo/lib/python3.8/site-packages (from apache-beam->object-detection==0.1) (0.22.0)\n",
            "Requirement already satisfied: pyarrow<15.0.0,>=3.0.0 in /Users/abrarhayat/miniconda3/envs/tfo/lib/python3.8/site-packages (from apache-beam->object-detection==0.1) (14.0.2)\n",
            "Requirement already satisfied: pyarrow-hotfix<1 in /Users/abrarhayat/miniconda3/envs/tfo/lib/python3.8/site-packages (from apache-beam->object-detection==0.1) (0.6)\n",
            "Requirement already satisfied: cycler>=0.10.0 in /Users/abrarhayat/miniconda3/envs/tfo/lib/python3.8/site-packages (from lvis->object-detection==0.1) (0.12.1)\n",
            "Requirement already satisfied: kiwisolver>=1.1.0 in /Users/abrarhayat/miniconda3/envs/tfo/lib/python3.8/site-packages (from lvis->object-detection==0.1) (1.4.5)\n",
            "Requirement already satisfied: opencv-python>=4.1.0.25 in /Users/abrarhayat/miniconda3/envs/tfo/lib/python3.8/site-packages (from lvis->object-detection==0.1) (4.9.0.80)\n",
            "Requirement already satisfied: contourpy>=1.0.1 in /Users/abrarhayat/miniconda3/envs/tfo/lib/python3.8/site-packages (from matplotlib->object-detection==0.1) (1.1.1)\n",
            "Requirement already satisfied: fonttools>=4.22.0 in /Users/abrarhayat/miniconda3/envs/tfo/lib/python3.8/site-packages (from matplotlib->object-detection==0.1) (4.49.0)\n",
            "Requirement already satisfied: importlib-resources>=3.2.0 in /Users/abrarhayat/miniconda3/envs/tfo/lib/python3.8/site-packages (from matplotlib->object-detection==0.1) (6.1.1)\n",
            "Requirement already satisfied: tensorflow-io-gcs-filesystem==0.34.0 in /Users/abrarhayat/miniconda3/envs/tfo/lib/python3.8/site-packages (from tensorflow_io->object-detection==0.1) (0.34.0)\n",
            "Requirement already satisfied: google-auth<3.0.0.dev0,>=1.19.0 in /Users/abrarhayat/miniconda3/envs/tfo/lib/python3.8/site-packages (from google-api-python-client>=1.6.7->tf-models-official>=2.5.1->object-detection==0.1) (2.28.0)\n",
            "Requirement already satisfied: google-auth-httplib2>=0.1.0 in /Users/abrarhayat/miniconda3/envs/tfo/lib/python3.8/site-packages (from google-api-python-client>=1.6.7->tf-models-official>=2.5.1->object-detection==0.1) (0.2.0)\n",
            "Requirement already satisfied: google-api-core!=2.0.*,!=2.1.*,!=2.2.*,!=2.3.0,<3.0.0.dev0,>=1.31.5 in /Users/abrarhayat/miniconda3/envs/tfo/lib/python3.8/site-packages (from google-api-python-client>=1.6.7->tf-models-official>=2.5.1->object-detection==0.1) (2.17.1)\n",
            "Requirement already satisfied: uritemplate<5,>=3.0.1 in /Users/abrarhayat/miniconda3/envs/tfo/lib/python3.8/site-packages (from google-api-python-client>=1.6.7->tf-models-official>=2.5.1->object-detection==0.1) (4.1.1)\n",
            "Requirement already satisfied: docopt in /Users/abrarhayat/miniconda3/envs/tfo/lib/python3.8/site-packages (from hdfs<3.0.0,>=2.1.0->apache-beam->object-detection==0.1) (0.6.2)\n",
            "Requirement already satisfied: zipp>=3.1.0 in /Users/abrarhayat/miniconda3/envs/tfo/lib/python3.8/site-packages (from importlib-resources>=3.2.0->matplotlib->object-detection==0.1) (3.17.0)\n",
            "Requirement already satisfied: tzlocal>=1.2 in /Users/abrarhayat/miniconda3/envs/tfo/lib/python3.8/site-packages (from js2py<1,>=0.74->apache-beam->object-detection==0.1) (5.2)\n",
            "Requirement already satisfied: pyjsparser>=2.5.1 in /Users/abrarhayat/miniconda3/envs/tfo/lib/python3.8/site-packages (from js2py<1,>=0.74->apache-beam->object-detection==0.1) (2.7.1)\n",
            "Requirement already satisfied: attrs>=22.2.0 in /Users/abrarhayat/miniconda3/envs/tfo/lib/python3.8/site-packages (from jsonschema<5.0.0,>=4.0.0->apache-beam->object-detection==0.1) (23.2.0)\n",
            "Requirement already satisfied: jsonschema-specifications>=2023.03.6 in /Users/abrarhayat/miniconda3/envs/tfo/lib/python3.8/site-packages (from jsonschema<5.0.0,>=4.0.0->apache-beam->object-detection==0.1) (2023.12.1)\n",
            "Requirement already satisfied: pkgutil-resolve-name>=1.3.10 in /Users/abrarhayat/miniconda3/envs/tfo/lib/python3.8/site-packages (from jsonschema<5.0.0,>=4.0.0->apache-beam->object-detection==0.1) (1.3.10)\n",
            "Requirement already satisfied: referencing>=0.28.4 in /Users/abrarhayat/miniconda3/envs/tfo/lib/python3.8/site-packages (from jsonschema<5.0.0,>=4.0.0->apache-beam->object-detection==0.1) (0.33.0)\n",
            "Requirement already satisfied: rpds-py>=0.7.1 in /Users/abrarhayat/miniconda3/envs/tfo/lib/python3.8/site-packages (from jsonschema<5.0.0,>=4.0.0->apache-beam->object-detection==0.1) (0.18.0)\n",
            "Requirement already satisfied: certifi in /Users/abrarhayat/miniconda3/envs/tfo/lib/python3.8/site-packages (from kaggle>=1.3.9->tf-models-official>=2.5.1->object-detection==0.1) (2024.2.2)\n",
            "Requirement already satisfied: tqdm in /Users/abrarhayat/miniconda3/envs/tfo/lib/python3.8/site-packages (from kaggle>=1.3.9->tf-models-official>=2.5.1->object-detection==0.1) (4.66.2)\n",
            "Requirement already satisfied: python-slugify in /Users/abrarhayat/miniconda3/envs/tfo/lib/python3.8/site-packages (from kaggle>=1.3.9->tf-models-official>=2.5.1->object-detection==0.1) (8.0.4)\n",
            "Requirement already satisfied: urllib3 in /Users/abrarhayat/miniconda3/envs/tfo/lib/python3.8/site-packages (from kaggle>=1.3.9->tf-models-official>=2.5.1->object-detection==0.1) (2.2.0)\n",
            "Requirement already satisfied: bleach in /Users/abrarhayat/miniconda3/envs/tfo/lib/python3.8/site-packages (from kaggle>=1.3.9->tf-models-official>=2.5.1->object-detection==0.1) (6.1.0)\n",
            "Requirement already satisfied: dnspython<3.0.0,>=1.16.0 in /Users/abrarhayat/miniconda3/envs/tfo/lib/python3.8/site-packages (from pymongo<5.0.0,>=3.8.0->apache-beam->object-detection==0.1) (2.6.0)\n",
            "Requirement already satisfied: charset-normalizer<4,>=2 in /Users/abrarhayat/miniconda3/envs/tfo/lib/python3.8/site-packages (from requests<3.0.0,>=2.24.0->apache-beam->object-detection==0.1) (3.3.2)\n",
            "Requirement already satisfied: idna<4,>=2.5 in /Users/abrarhayat/miniconda3/envs/tfo/lib/python3.8/site-packages (from requests<3.0.0,>=2.24.0->apache-beam->object-detection==0.1) (3.6)\n",
            "Requirement already satisfied: tensorflow-macos==2.13.0 in /Users/abrarhayat/miniconda3/envs/tfo/lib/python3.8/site-packages (from tensorflow>=2.5.0->tf-models-official>=2.5.1->object-detection==0.1) (2.13.0)\n",
            "Requirement already satisfied: astunparse>=1.6.0 in /Users/abrarhayat/miniconda3/envs/tfo/lib/python3.8/site-packages (from tensorflow-macos==2.13.0->tensorflow>=2.5.0->tf-models-official>=2.5.1->object-detection==0.1) (1.6.3)\n",
            "Requirement already satisfied: flatbuffers>=23.1.21 in /Users/abrarhayat/miniconda3/envs/tfo/lib/python3.8/site-packages (from tensorflow-macos==2.13.0->tensorflow>=2.5.0->tf-models-official>=2.5.1->object-detection==0.1) (23.5.26)\n",
            "Requirement already satisfied: gast<=0.4.0,>=0.2.1 in /Users/abrarhayat/miniconda3/envs/tfo/lib/python3.8/site-packages (from tensorflow-macos==2.13.0->tensorflow>=2.5.0->tf-models-official>=2.5.1->object-detection==0.1) (0.4.0)\n",
            "Requirement already satisfied: google-pasta>=0.1.1 in /Users/abrarhayat/miniconda3/envs/tfo/lib/python3.8/site-packages (from tensorflow-macos==2.13.0->tensorflow>=2.5.0->tf-models-official>=2.5.1->object-detection==0.1) (0.2.0)\n",
            "Requirement already satisfied: h5py>=2.9.0 in /Users/abrarhayat/miniconda3/envs/tfo/lib/python3.8/site-packages (from tensorflow-macos==2.13.0->tensorflow>=2.5.0->tf-models-official>=2.5.1->object-detection==0.1) (3.10.0)\n",
            "Requirement already satisfied: libclang>=13.0.0 in /Users/abrarhayat/miniconda3/envs/tfo/lib/python3.8/site-packages (from tensorflow-macos==2.13.0->tensorflow>=2.5.0->tf-models-official>=2.5.1->object-detection==0.1) (16.0.6)\n",
            "Requirement already satisfied: opt-einsum>=2.3.2 in /Users/abrarhayat/miniconda3/envs/tfo/lib/python3.8/site-packages (from tensorflow-macos==2.13.0->tensorflow>=2.5.0->tf-models-official>=2.5.1->object-detection==0.1) (3.3.0)\n",
            "Requirement already satisfied: setuptools in /Users/abrarhayat/miniconda3/envs/tfo/lib/python3.8/site-packages (from tensorflow-macos==2.13.0->tensorflow>=2.5.0->tf-models-official>=2.5.1->object-detection==0.1) (68.2.2)\n",
            "Requirement already satisfied: termcolor>=1.1.0 in /Users/abrarhayat/miniconda3/envs/tfo/lib/python3.8/site-packages (from tensorflow-macos==2.13.0->tensorflow>=2.5.0->tf-models-official>=2.5.1->object-detection==0.1) (2.4.0)\n",
            "Requirement already satisfied: wrapt>=1.11.0 in /Users/abrarhayat/miniconda3/envs/tfo/lib/python3.8/site-packages (from tensorflow-macos==2.13.0->tensorflow>=2.5.0->tf-models-official>=2.5.1->object-detection==0.1) (1.16.0)\n",
            "Requirement already satisfied: tensorboard<2.14,>=2.13 in /Users/abrarhayat/miniconda3/envs/tfo/lib/python3.8/site-packages (from tensorflow-macos==2.13.0->tensorflow>=2.5.0->tf-models-official>=2.5.1->object-detection==0.1) (2.13.0)\n",
            "Requirement already satisfied: tensorflow-estimator<2.14,>=2.13.0 in /Users/abrarhayat/miniconda3/envs/tfo/lib/python3.8/site-packages (from tensorflow-macos==2.13.0->tensorflow>=2.5.0->tf-models-official>=2.5.1->object-detection==0.1) (2.13.0)\n",
            "Requirement already satisfied: tf-keras>=2.14.1 in /Users/abrarhayat/miniconda3/envs/tfo/lib/python3.8/site-packages (from tensorflow-hub>=0.6.0->tf-models-official>=2.5.1->object-detection==0.1) (2.15.0)\n",
            "Requirement already satisfied: dm-tree~=0.1.1 in /Users/abrarhayat/miniconda3/envs/tfo/lib/python3.8/site-packages (from tensorflow-model-optimization>=0.4.1->tf-models-official>=2.5.1->object-detection==0.1) (0.1.8)\n",
            "Requirement already satisfied: pyasn1>=0.1.7 in /Users/abrarhayat/miniconda3/envs/tfo/lib/python3.8/site-packages (from oauth2client->tf-models-official>=2.5.1->object-detection==0.1) (0.5.1)\n",
            "Requirement already satisfied: pyasn1-modules>=0.0.5 in /Users/abrarhayat/miniconda3/envs/tfo/lib/python3.8/site-packages (from oauth2client->tf-models-official>=2.5.1->object-detection==0.1) (0.3.0)\n",
            "Requirement already satisfied: rsa>=3.1.4 in /Users/abrarhayat/miniconda3/envs/tfo/lib/python3.8/site-packages (from oauth2client->tf-models-official>=2.5.1->object-detection==0.1) (4.9)\n",
            "Requirement already satisfied: scikit-learn>=0.21.3 in /Users/abrarhayat/miniconda3/envs/tfo/lib/python3.8/site-packages (from seqeval->tf-models-official>=2.5.1->object-detection==0.1) (1.3.2)\n",
            "Requirement already satisfied: typeguard<3.0.0,>=2.7 in /Users/abrarhayat/miniconda3/envs/tfo/lib/python3.8/site-packages (from tensorflow-addons->tf-models-official>=2.5.1->object-detection==0.1) (2.13.3)\n",
            "Requirement already satisfied: array-record in /Users/abrarhayat/miniconda3/envs/tfo/lib/python3.8/site-packages (from tensorflow-datasets->tf-models-official>=2.5.1->object-detection==0.1) (0.4.0)\n",
            "Requirement already satisfied: click in /Users/abrarhayat/miniconda3/envs/tfo/lib/python3.8/site-packages (from tensorflow-datasets->tf-models-official>=2.5.1->object-detection==0.1) (8.1.7)\n",
            "Requirement already satisfied: etils>=0.9.0 in /Users/abrarhayat/miniconda3/envs/tfo/lib/python3.8/site-packages (from etils[enp,epath]>=0.9.0->tensorflow-datasets->tf-models-official>=2.5.1->object-detection==0.1) (1.3.0)\n",
            "Requirement already satisfied: promise in /Users/abrarhayat/miniconda3/envs/tfo/lib/python3.8/site-packages (from tensorflow-datasets->tf-models-official>=2.5.1->object-detection==0.1) (2.3)\n",
            "Requirement already satisfied: tensorflow-metadata in /Users/abrarhayat/miniconda3/envs/tfo/lib/python3.8/site-packages (from tensorflow-datasets->tf-models-official>=2.5.1->object-detection==0.1) (1.14.0)\n",
            "Requirement already satisfied: toml in /Users/abrarhayat/miniconda3/envs/tfo/lib/python3.8/site-packages (from tensorflow-datasets->tf-models-official>=2.5.1->object-detection==0.1) (0.10.2)\n",
            "Requirement already satisfied: googleapis-common-protos<2.0.dev0,>=1.56.2 in /Users/abrarhayat/miniconda3/envs/tfo/lib/python3.8/site-packages (from google-api-core!=2.0.*,!=2.1.*,!=2.2.*,!=2.3.0,<3.0.0.dev0,>=1.31.5->google-api-python-client>=1.6.7->tf-models-official>=2.5.1->object-detection==0.1) (1.62.0)\n",
            "Requirement already satisfied: cachetools<6.0,>=2.0.0 in /Users/abrarhayat/miniconda3/envs/tfo/lib/python3.8/site-packages (from google-auth<3.0.0.dev0,>=1.19.0->google-api-python-client>=1.6.7->tf-models-official>=2.5.1->object-detection==0.1) (5.3.2)\n",
            "Requirement already satisfied: joblib>=1.1.1 in /Users/abrarhayat/miniconda3/envs/tfo/lib/python3.8/site-packages (from scikit-learn>=0.21.3->seqeval->tf-models-official>=2.5.1->object-detection==0.1) (1.3.2)\n",
            "Requirement already satisfied: threadpoolctl>=2.0.0 in /Users/abrarhayat/miniconda3/envs/tfo/lib/python3.8/site-packages (from scikit-learn>=0.21.3->seqeval->tf-models-official>=2.5.1->object-detection==0.1) (3.3.0)\n",
            "Requirement already satisfied: backports.zoneinfo in /Users/abrarhayat/miniconda3/envs/tfo/lib/python3.8/site-packages (from tzlocal>=1.2->js2py<1,>=0.74->apache-beam->object-detection==0.1) (0.2.1)\n",
            "Requirement already satisfied: webencodings in /Users/abrarhayat/miniconda3/envs/tfo/lib/python3.8/site-packages (from bleach->kaggle>=1.3.9->tf-models-official>=2.5.1->object-detection==0.1) (0.5.1)\n",
            "Requirement already satisfied: text-unidecode>=1.3 in /Users/abrarhayat/miniconda3/envs/tfo/lib/python3.8/site-packages (from python-slugify->kaggle>=1.3.9->tf-models-official>=2.5.1->object-detection==0.1) (1.3)\n",
            "Requirement already satisfied: wheel<1.0,>=0.23.0 in /Users/abrarhayat/miniconda3/envs/tfo/lib/python3.8/site-packages (from astunparse>=1.6.0->tensorflow-macos==2.13.0->tensorflow>=2.5.0->tf-models-official>=2.5.1->object-detection==0.1) (0.41.2)\n",
            "Requirement already satisfied: google-auth-oauthlib<1.1,>=0.5 in /Users/abrarhayat/miniconda3/envs/tfo/lib/python3.8/site-packages (from tensorboard<2.14,>=2.13->tensorflow-macos==2.13.0->tensorflow>=2.5.0->tf-models-official>=2.5.1->object-detection==0.1) (1.0.0)\n",
            "Requirement already satisfied: markdown>=2.6.8 in /Users/abrarhayat/miniconda3/envs/tfo/lib/python3.8/site-packages (from tensorboard<2.14,>=2.13->tensorflow-macos==2.13.0->tensorflow>=2.5.0->tf-models-official>=2.5.1->object-detection==0.1) (3.5.2)\n",
            "Requirement already satisfied: tensorboard-data-server<0.8.0,>=0.7.0 in /Users/abrarhayat/miniconda3/envs/tfo/lib/python3.8/site-packages (from tensorboard<2.14,>=2.13->tensorflow-macos==2.13.0->tensorflow>=2.5.0->tf-models-official>=2.5.1->object-detection==0.1) (0.7.2)\n",
            "Requirement already satisfied: werkzeug>=1.0.1 in /Users/abrarhayat/miniconda3/envs/tfo/lib/python3.8/site-packages (from tensorboard<2.14,>=2.13->tensorflow-macos==2.13.0->tensorflow>=2.5.0->tf-models-official>=2.5.1->object-detection==0.1) (3.0.1)\n",
            "Requirement already satisfied: requests-oauthlib>=0.7.0 in /Users/abrarhayat/miniconda3/envs/tfo/lib/python3.8/site-packages (from google-auth-oauthlib<1.1,>=0.5->tensorboard<2.14,>=2.13->tensorflow-macos==2.13.0->tensorflow>=2.5.0->tf-models-official>=2.5.1->object-detection==0.1) (1.3.1)\n",
            "Requirement already satisfied: importlib-metadata>=4.4 in /Users/abrarhayat/miniconda3/envs/tfo/lib/python3.8/site-packages (from markdown>=2.6.8->tensorboard<2.14,>=2.13->tensorflow-macos==2.13.0->tensorflow>=2.5.0->tf-models-official>=2.5.1->object-detection==0.1) (7.0.1)\n",
            "Requirement already satisfied: MarkupSafe>=2.1.1 in /Users/abrarhayat/miniconda3/envs/tfo/lib/python3.8/site-packages (from werkzeug>=1.0.1->tensorboard<2.14,>=2.13->tensorflow-macos==2.13.0->tensorflow>=2.5.0->tf-models-official>=2.5.1->object-detection==0.1) (2.1.5)\n",
            "Requirement already satisfied: oauthlib>=3.0.0 in /Users/abrarhayat/miniconda3/envs/tfo/lib/python3.8/site-packages (from requests-oauthlib>=0.7.0->google-auth-oauthlib<1.1,>=0.5->tensorboard<2.14,>=2.13->tensorflow-macos==2.13.0->tensorflow>=2.5.0->tf-models-official>=2.5.1->object-detection==0.1) (3.2.2)\n",
            "Building wheels for collected packages: object-detection\n",
            "  Building wheel for object-detection (setup.py) ... \u001b[?25ldone\n",
            "\u001b[?25h  Created wheel for object-detection: filename=object_detection-0.1-py3-none-any.whl size=1656800 sha256=fb4e035fcda231c7e2d838c569e993c5e6a37eeb43d7ff5412814bc05d751836\n",
            "  Stored in directory: /private/var/folders/0h/kf11cdt562d74pkdycbwbbnm0000gn/T/pip-ephem-wheel-cache-rtp17ijn/wheels/17/2e/88/c6512c8f423725d536736f8bc9f12c09b2f458d3f7069e07cc\n",
            "Successfully built object-detection\n",
            "Installing collected packages: object-detection\n",
            "  Attempting uninstall: object-detection\n",
            "    Found existing installation: object-detection 0.1\n",
            "    Uninstalling object-detection-0.1:\n",
            "      Successfully uninstalled object-detection-0.1\n",
            "Successfully installed object-detection-0.1\n"
          ]
        }
      ],
      "source": [
        "# Install the Object Detection API\n",
        "%cd models/research\n",
        "!protoc object_detection/protos/*.proto --python_out=.\n",
        "!cp object_detection/packages/tf2/setup.py .\n",
        "!python -m pip install ."
      ]
    },
    {
      "cell_type": "markdown",
      "metadata": {
        "id": "i7Gbxy-6suzt"
      },
      "source": [
        "_Note: In Google Colab, you need to restart the runtime to finalize installing the packages. You can do so by selecting Runtime > Restart Runtime in the Menu bar. **Please do not proceed to the next section without restarting.**_"
      ]
    },
    {
      "cell_type": "code",
      "execution_count": 4,
      "metadata": {
        "id": "uZcqD4NLdnf4"
      },
      "outputs": [],
      "source": [
        "import matplotlib\n",
        "import matplotlib.pyplot as plt\n",
        "\n",
        "import os\n",
        "import random\n",
        "import io\n",
        "import imageio\n",
        "import glob\n",
        "import scipy.misc\n",
        "import numpy as np\n",
        "from six import BytesIO\n",
        "from PIL import Image, ImageDraw, ImageFont\n",
        "from IPython.display import display, Javascript\n",
        "from IPython.display import Image as IPyImage\n",
        "\n",
        "import tensorflow as tf\n",
        "\n",
        "from object_detection.utils import label_map_util\n",
        "from object_detection.utils import config_util\n",
        "from object_detection.utils import visualization_utils as viz_utils\n",
        "# from object_detection.utils import colab_utils\n",
        "from object_detection.builders import model_builder\n",
        "\n",
        "%matplotlib inline"
      ]
    },
    {
      "cell_type": "markdown",
      "metadata": {
        "id": "IogyryF2lFBL"
      },
      "source": [
        "# Utilities"
      ]
    },
    {
      "cell_type": "code",
      "execution_count": null,
      "metadata": {
        "id": "-y9R0Xllefec"
      },
      "outputs": [],
      "source": [
        "def load_image_into_numpy_array(path):\n",
        "  \"\"\"Load an image from file into a numpy array.\n",
        "\n",
        "  Puts image into numpy array to feed into tensorflow graph.\n",
        "  Note that by convention we put it into a numpy array with shape\n",
        "  (height, width, channels), where channels=3 for RGB.\n",
        "\n",
        "  Args:\n",
        "    path: a file path.\n",
        "\n",
        "  Returns:\n",
        "    uint8 numpy array with shape (img_height, img_width, 3)\n",
        "  \"\"\"\n",
        "  img_data = tf.io.gfile.GFile(path, 'rb').read()\n",
        "  image = Image.open(BytesIO(img_data))\n",
        "  (im_width, im_height) = image.size\n",
        "  return np.array(image.getdata()).reshape(\n",
        "      (im_height, im_width, 3)).astype(np.uint8)\n",
        "\n",
        "def plot_detections(image_np,\n",
        "                    boxes,\n",
        "                    classes,\n",
        "                    scores,\n",
        "                    category_index,\n",
        "                    figsize=(12, 16),\n",
        "                    image_name=None):\n",
        "  \"\"\"Wrapper function to visualize detections.\n",
        "\n",
        "  Args:\n",
        "    image_np: uint8 numpy array with shape (img_height, img_width, 3)\n",
        "    boxes: a numpy array of shape [N, 4]\n",
        "    classes: a numpy array of shape [N]. Note that class indices are 1-based,\n",
        "      and match the keys in the label map.\n",
        "    scores: a numpy array of shape [N] or None.  If scores=None, then\n",
        "      this function assumes that the boxes to be plotted are groundtruth\n",
        "      boxes and plot all boxes as black with no classes or scores.\n",
        "    category_index: a dict containing category dictionaries (each holding\n",
        "      category index `id` and category name `name`) keyed by category indices.\n",
        "    figsize: size for the figure.\n",
        "    image_name: a name for the image file.\n",
        "  \"\"\"\n",
        "  image_np_with_annotations = image_np.copy()\n",
        "  viz_utils.visualize_boxes_and_labels_on_image_array(\n",
        "      image_np_with_annotations,\n",
        "      boxes,\n",
        "      classes,\n",
        "      scores,\n",
        "      category_index,\n",
        "      use_normalized_coordinates=True,\n",
        "      min_score_thresh=0.8)\n",
        "  if image_name:\n",
        "    plt.imsave(image_name, image_np_with_annotations)\n",
        "  else:\n",
        "    plt.imshow(image_np_with_annotations)\n"
      ]
    },
    {
      "cell_type": "markdown",
      "metadata": {
        "id": "sSaXL28TZfk1"
      },
      "source": [
        "# Rubber Ducky data\n",
        "\n",
        "We will start with some toy (literally) data consisting of 5 images of a rubber\n",
        "ducky.  Note that the [coco](https://cocodataset.org/#explore) dataset contains a number of animals, but notably, it does *not* contain rubber duckies (or even ducks for that matter), so this is a novel class."
      ]
    },
    {
      "cell_type": "code",
      "execution_count": null,
      "metadata": {
        "id": "SQy3ND7EpFQM"
      },
      "outputs": [],
      "source": [
        "# Load images and visualize\n",
        "train_image_dir = 'models/research/object_detection/test_images/ducky/train/'\n",
        "train_images_np = []\n",
        "for i in range(1, 6):\n",
        "  image_path = os.path.join(train_image_dir, 'robertducky' + str(i) + '.jpg')\n",
        "  train_images_np.append(load_image_into_numpy_array(image_path))\n",
        "\n",
        "plt.rcParams['axes.grid'] = False\n",
        "plt.rcParams['xtick.labelsize'] = False\n",
        "plt.rcParams['ytick.labelsize'] = False\n",
        "plt.rcParams['xtick.top'] = False\n",
        "plt.rcParams['xtick.bottom'] = False\n",
        "plt.rcParams['ytick.left'] = False\n",
        "plt.rcParams['ytick.right'] = False\n",
        "plt.rcParams['figure.figsize'] = [14, 7]\n",
        "\n",
        "for idx, train_image_np in enumerate(train_images_np):\n",
        "  plt.subplot(2, 3, idx+1)\n",
        "  plt.imshow(train_image_np)\n",
        "plt.show()"
      ]
    },
    {
      "cell_type": "markdown",
      "metadata": {
        "id": "cbKXmQoxcUgE"
      },
      "source": [
        "# Annotate images with bounding boxes\n",
        "\n",
        "In this cell you will annotate the rubber duckies --- draw a box around the rubber ducky in each image; click `next image` to go to the next image and `submit` when there are no more images.\n",
        "\n",
        "If you'd like to skip the manual annotation step, we totally understand.  In this case, simply skip this cell and run the next cell instead, where we've prepopulated the groundtruth with pre-annotated bounding boxes.\n",
        "\n"
      ]
    },
    {
      "cell_type": "code",
      "execution_count": null,
      "metadata": {
        "id": "-nEDRoUEcUgL"
      },
      "outputs": [],
      "source": [
        "gt_boxes = []\n",
        "colab_utils.annotate(train_images_np, box_storage_pointer=gt_boxes)"
      ]
    },
    {
      "cell_type": "markdown",
      "metadata": {
        "id": "wTP9AFqecUgS"
      },
      "source": [
        "# In case you didn't want to label...\n",
        "\n",
        "Run this cell only if you didn't annotate anything above and\n",
        "would prefer to just use our preannotated boxes.  Don't forget\n",
        "to uncomment."
      ]
    },
    {
      "cell_type": "code",
      "execution_count": null,
      "metadata": {
        "id": "wIAT6ZUmdHOC"
      },
      "outputs": [],
      "source": [
        "gt_boxes = [\n",
        "            np.array([[0.436, 0.591, 0.629, 0.712]], dtype=np.float32),\n",
        "            np.array([[0.539, 0.583, 0.73, 0.71]], dtype=np.float32),\n",
        "            np.array([[0.464, 0.414, 0.626, 0.548]], dtype=np.float32),\n",
        "            np.array([[0.313, 0.308, 0.648, 0.526]], dtype=np.float32),\n",
        "            np.array([[0.256, 0.444, 0.484, 0.629]], dtype=np.float32)\n",
        "]"
      ]
    },
    {
      "cell_type": "markdown",
      "metadata": {
        "id": "Dqb_yjAo3cO_"
      },
      "source": [
        "# Prepare data for training\n",
        "\n",
        "Below we add the class annotations (for simplicity, we assume a single class in this colab; though it should be straightforward to extend this to handle multiple classes).  We also convert everything to the format that the training\n",
        "loop below expects (e.g., everything converted to tensors, classes converted to one-hot representations, etc.)."
      ]
    },
    {
      "cell_type": "code",
      "execution_count": null,
      "metadata": {
        "id": "HWBqFVMcweF-"
      },
      "outputs": [],
      "source": [
        "\n",
        "# By convention, our non-background classes start counting at 1.  Given\n",
        "# that we will be predicting just one class, we will therefore assign it a\n",
        "# `class id` of 1.\n",
        "duck_class_id = 1\n",
        "num_classes = 1\n",
        "\n",
        "category_index = {duck_class_id: {'id': duck_class_id, 'name': 'rubber_ducky'}}\n",
        "\n",
        "# Convert class labels to one-hot; convert everything to tensors.\n",
        "# The `label_id_offset` here shifts all classes by a certain number of indices;\n",
        "# we do this here so that the model receives one-hot labels where non-background\n",
        "# classes start counting at the zeroth index.  This is ordinarily just handled\n",
        "# automatically in our training binaries, but we need to reproduce it here.\n",
        "label_id_offset = 1\n",
        "train_image_tensors = []\n",
        "gt_classes_one_hot_tensors = []\n",
        "gt_box_tensors = []\n",
        "for (train_image_np, gt_box_np) in zip(\n",
        "    train_images_np, gt_boxes):\n",
        "  train_image_tensors.append(tf.expand_dims(tf.convert_to_tensor(\n",
        "      train_image_np, dtype=tf.float32), axis=0))\n",
        "  gt_box_tensors.append(tf.convert_to_tensor(gt_box_np, dtype=tf.float32))\n",
        "  zero_indexed_groundtruth_classes = tf.convert_to_tensor(\n",
        "      np.ones(shape=[gt_box_np.shape[0]], dtype=np.int32) - label_id_offset)\n",
        "  gt_classes_one_hot_tensors.append(tf.one_hot(\n",
        "      zero_indexed_groundtruth_classes, num_classes))\n",
        "print('Done prepping data.')\n"
      ]
    },
    {
      "cell_type": "markdown",
      "metadata": {
        "id": "b3_Z3mJWN9KJ"
      },
      "source": [
        "# Let's just visualize the rubber duckies as a sanity check\n"
      ]
    },
    {
      "cell_type": "code",
      "execution_count": null,
      "metadata": {
        "id": "YBD6l-E4N71y"
      },
      "outputs": [],
      "source": [
        "dummy_scores = np.array([1.0], dtype=np.float32)  # give boxes a score of 100%\n",
        "\n",
        "plt.figure(figsize=(30, 15))\n",
        "for idx in range(5):\n",
        "  plt.subplot(2, 3, idx+1)\n",
        "  plot_detections(\n",
        "      train_images_np[idx],\n",
        "      gt_boxes[idx],\n",
        "      np.ones(shape=[gt_boxes[idx].shape[0]], dtype=np.int32),\n",
        "      dummy_scores, category_index)\n",
        "plt.show()"
      ]
    },
    {
      "cell_type": "markdown",
      "metadata": {
        "id": "ghDAsqfoZvPh"
      },
      "source": [
        "# Create model and restore weights for all but last layer\n",
        "\n",
        "In this cell we build a single stage detection architecture (RetinaNet) and restore all but the classification layer at the top (which will be automatically randomly initialized).\n",
        "\n",
        "For simplicity, we have hardcoded a number of things in this colab for the specific RetinaNet architecture at hand (including assuming that the image size will always be 640x640), however it is not difficult to generalize to other model configurations."
      ]
    },
    {
      "cell_type": "code",
      "execution_count": null,
      "metadata": {
        "id": "9J16r3NChD-7"
      },
      "outputs": [],
      "source": [
        "# Download the checkpoint and put it into models/research/object_detection/test_data/\n",
        "\n",
        "!wget http://download.tensorflow.org/models/object_detection/tf2/20200711/ssd_resnet50_v1_fpn_640x640_coco17_tpu-8.tar.gz\n",
        "!tar -xf ssd_resnet50_v1_fpn_640x640_coco17_tpu-8.tar.gz\n",
        "!mv ssd_resnet50_v1_fpn_640x640_coco17_tpu-8/checkpoint models/research/object_detection/test_data/"
      ]
    },
    {
      "cell_type": "code",
      "execution_count": null,
      "metadata": {
        "id": "RyT4BUbaMeG-"
      },
      "outputs": [],
      "source": [
        "tf.keras.backend.clear_session()\n",
        "\n",
        "print('Building model and restoring weights for fine-tuning...', flush=True)\n",
        "num_classes = 1\n",
        "pipeline_config = 'models/research/object_detection/configs/tf2/ssd_resnet50_v1_fpn_640x640_coco17_tpu-8.config'\n",
        "checkpoint_path = 'models/research/object_detection/test_data/checkpoint/ckpt-0'\n",
        "\n",
        "# Load pipeline config and build a detection model.\n",
        "#\n",
        "# Since we are working off of a COCO architecture which predicts 90\n",
        "# class slots by default, we override the `num_classes` field here to be just\n",
        "# one (for our new rubber ducky class).\n",
        "configs = config_util.get_configs_from_pipeline_file(pipeline_config)\n",
        "model_config = configs['model']\n",
        "model_config.ssd.num_classes = num_classes\n",
        "model_config.ssd.freeze_batchnorm = True\n",
        "detection_model = model_builder.build(\n",
        "      model_config=model_config, is_training=True)\n",
        "\n",
        "# Set up object-based checkpoint restore --- RetinaNet has two prediction\n",
        "# `heads` --- one for classification, the other for box regression.  We will\n",
        "# restore the box regression head but initialize the classification head\n",
        "# from scratch (we show the omission below by commenting out the line that\n",
        "# we would add if we wanted to restore both heads)\n",
        "fake_box_predictor = tf.compat.v2.train.Checkpoint(\n",
        "    _base_tower_layers_for_heads=detection_model._box_predictor._base_tower_layers_for_heads,\n",
        "    # _prediction_heads=detection_model._box_predictor._prediction_heads,\n",
        "    #    (i.e., the classification head that we *will not* restore)\n",
        "    _box_prediction_head=detection_model._box_predictor._box_prediction_head,\n",
        "    )\n",
        "fake_model = tf.compat.v2.train.Checkpoint(\n",
        "          _feature_extractor=detection_model._feature_extractor,\n",
        "          _box_predictor=fake_box_predictor)\n",
        "ckpt = tf.compat.v2.train.Checkpoint(model=fake_model)\n",
        "ckpt.restore(checkpoint_path).expect_partial()\n",
        "\n",
        "# Run model through a dummy image so that variables are created\n",
        "image, shapes = detection_model.preprocess(tf.zeros([1, 640, 640, 3]))\n",
        "prediction_dict = detection_model.predict(image, shapes)\n",
        "_ = detection_model.postprocess(prediction_dict, shapes)\n",
        "print('Weights restored!')"
      ]
    },
    {
      "cell_type": "markdown",
      "metadata": {
        "id": "pCkWmdoZZ0zJ"
      },
      "source": [
        "# Eager mode custom training loop\n",
        "\n"
      ]
    },
    {
      "cell_type": "code",
      "execution_count": null,
      "metadata": {
        "id": "nyHoF4mUrv5-"
      },
      "outputs": [],
      "source": [
        "tf.keras.backend.set_learning_phase(True)\n",
        "\n",
        "# These parameters can be tuned; since our training set has 5 images\n",
        "# it doesn't make sense to have a much larger batch size, though we could\n",
        "# fit more examples in memory if we wanted to.\n",
        "batch_size = 4\n",
        "learning_rate = 0.01\n",
        "num_batches = 100\n",
        "\n",
        "# Select variables in top layers to fine-tune.\n",
        "trainable_variables = detection_model.trainable_variables\n",
        "to_fine_tune = []\n",
        "prefixes_to_train = [\n",
        "  'WeightSharedConvolutionalBoxPredictor/WeightSharedConvolutionalBoxHead',\n",
        "  'WeightSharedConvolutionalBoxPredictor/WeightSharedConvolutionalClassHead']\n",
        "for var in trainable_variables:\n",
        "  if any([var.name.startswith(prefix) for prefix in prefixes_to_train]):\n",
        "    to_fine_tune.append(var)\n",
        "\n",
        "# Set up forward + backward pass for a single train step.\n",
        "def get_model_train_step_function(model, optimizer, vars_to_fine_tune):\n",
        "  \"\"\"Get a tf.function for training step.\"\"\"\n",
        "\n",
        "  # Use tf.function for a bit of speed.\n",
        "  # Comment out the tf.function decorator if you want the inside of the\n",
        "  # function to run eagerly.\n",
        "  @tf.function\n",
        "  def train_step_fn(image_tensors,\n",
        "                    groundtruth_boxes_list,\n",
        "                    groundtruth_classes_list):\n",
        "    \"\"\"A single training iteration.\n",
        "\n",
        "    Args:\n",
        "      image_tensors: A list of [1, height, width, 3] Tensor of type tf.float32.\n",
        "        Note that the height and width can vary across images, as they are\n",
        "        reshaped within this function to be 640x640.\n",
        "      groundtruth_boxes_list: A list of Tensors of shape [N_i, 4] with type\n",
        "        tf.float32 representing groundtruth boxes for each image in the batch.\n",
        "      groundtruth_classes_list: A list of Tensors of shape [N_i, num_classes]\n",
        "        with type tf.float32 representing groundtruth boxes for each image in\n",
        "        the batch.\n",
        "\n",
        "    Returns:\n",
        "      A scalar tensor representing the total loss for the input batch.\n",
        "    \"\"\"\n",
        "    shapes = tf.constant(batch_size * [[640, 640, 3]], dtype=tf.int32)\n",
        "    model.provide_groundtruth(\n",
        "        groundtruth_boxes_list=groundtruth_boxes_list,\n",
        "        groundtruth_classes_list=groundtruth_classes_list)\n",
        "    with tf.GradientTape() as tape:\n",
        "      preprocessed_images = tf.concat(\n",
        "          [detection_model.preprocess(image_tensor)[0]\n",
        "           for image_tensor in image_tensors], axis=0)\n",
        "      prediction_dict = model.predict(preprocessed_images, shapes)\n",
        "      losses_dict = model.loss(prediction_dict, shapes)\n",
        "      total_loss = losses_dict['Loss/localization_loss'] + losses_dict['Loss/classification_loss']\n",
        "      gradients = tape.gradient(total_loss, vars_to_fine_tune)\n",
        "      optimizer.apply_gradients(zip(gradients, vars_to_fine_tune))\n",
        "    return total_loss\n",
        "\n",
        "  return train_step_fn\n",
        "\n",
        "optimizer = tf.keras.optimizers.SGD(learning_rate=learning_rate, momentum=0.9)\n",
        "train_step_fn = get_model_train_step_function(\n",
        "    detection_model, optimizer, to_fine_tune)\n",
        "\n",
        "print('Start fine-tuning!', flush=True)\n",
        "for idx in range(num_batches):\n",
        "  # Grab keys for a random subset of examples\n",
        "  all_keys = list(range(len(train_images_np)))\n",
        "  random.shuffle(all_keys)\n",
        "  example_keys = all_keys[:batch_size]\n",
        "\n",
        "  # Note that we do not do data augmentation in this demo.  If you want a\n",
        "  # a fun exercise, we recommend experimenting with random horizontal flipping\n",
        "  # and random cropping :)\n",
        "  gt_boxes_list = [gt_box_tensors[key] for key in example_keys]\n",
        "  gt_classes_list = [gt_classes_one_hot_tensors[key] for key in example_keys]\n",
        "  image_tensors = [train_image_tensors[key] for key in example_keys]\n",
        "\n",
        "  # Training step (forward pass + backwards pass)\n",
        "  total_loss = train_step_fn(image_tensors, gt_boxes_list, gt_classes_list)\n",
        "\n",
        "  if idx % 10 == 0:\n",
        "    print('batch ' + str(idx) + ' of ' + str(num_batches)\n",
        "    + ', loss=' +  str(total_loss.numpy()), flush=True)\n",
        "\n",
        "print('Done fine-tuning!')"
      ]
    },
    {
      "cell_type": "markdown",
      "metadata": {
        "id": "WHlXL1x_Z3tc"
      },
      "source": [
        "# Load test images and run inference with new model!"
      ]
    },
    {
      "cell_type": "code",
      "execution_count": null,
      "metadata": {
        "id": "WcE6OwrHQJya"
      },
      "outputs": [],
      "source": [
        "test_image_dir = 'models/research/object_detection/test_images/ducky/test/'\n",
        "test_images_np = []\n",
        "for i in range(1, 50):\n",
        "  image_path = os.path.join(test_image_dir, 'out' + str(i) + '.jpg')\n",
        "  test_images_np.append(np.expand_dims(\n",
        "      load_image_into_numpy_array(image_path), axis=0))\n",
        "\n",
        "# Again, uncomment this decorator if you want to run inference eagerly\n",
        "@tf.function\n",
        "def detect(input_tensor):\n",
        "  \"\"\"Run detection on an input image.\n",
        "\n",
        "  Args:\n",
        "    input_tensor: A [1, height, width, 3] Tensor of type tf.float32.\n",
        "      Note that height and width can be anything since the image will be\n",
        "      immediately resized according to the needs of the model within this\n",
        "      function.\n",
        "\n",
        "  Returns:\n",
        "    A dict containing 3 Tensors (`detection_boxes`, `detection_classes`,\n",
        "      and `detection_scores`).\n",
        "  \"\"\"\n",
        "  preprocessed_image, shapes = detection_model.preprocess(input_tensor)\n",
        "  prediction_dict = detection_model.predict(preprocessed_image, shapes)\n",
        "  return detection_model.postprocess(prediction_dict, shapes)\n",
        "\n",
        "# Note that the first frame will trigger tracing of the tf.function, which will\n",
        "# take some time, after which inference should be fast.\n",
        "\n",
        "label_id_offset = 1\n",
        "for i in range(len(test_images_np)):\n",
        "  input_tensor = tf.convert_to_tensor(test_images_np[i], dtype=tf.float32)\n",
        "  detections = detect(input_tensor)\n",
        "\n",
        "  plot_detections(\n",
        "      test_images_np[i][0],\n",
        "      detections['detection_boxes'][0].numpy(),\n",
        "      detections['detection_classes'][0].numpy().astype(np.uint32)\n",
        "      + label_id_offset,\n",
        "      detections['detection_scores'][0].numpy(),\n",
        "      category_index, figsize=(15, 20), image_name=\"gif_frame_\" + ('%02d' % i) + \".jpg\")"
      ]
    },
    {
      "cell_type": "code",
      "execution_count": null,
      "metadata": {
        "id": "RW1FrT2iNnpy"
      },
      "outputs": [],
      "source": [
        "imageio.plugins.freeimage.download()\n",
        "\n",
        "anim_file = 'duckies_test.gif'\n",
        "\n",
        "filenames = glob.glob('gif_frame_*.jpg')\n",
        "filenames = sorted(filenames)\n",
        "last = -1\n",
        "images = []\n",
        "for filename in filenames:\n",
        "  image = imageio.imread(filename)\n",
        "  images.append(image)\n",
        "\n",
        "imageio.mimsave(anim_file, images, 'GIF-FI', fps=5)\n",
        "\n",
        "display(IPyImage(open(anim_file, 'rb').read()))"
      ]
    },
    {
      "cell_type": "code",
      "execution_count": null,
      "metadata": {
        "id": "rS7CuUh5DO9o"
      },
      "outputs": [],
      "source": []
    }
  ],
  "metadata": {
    "accelerator": "GPU",
    "colab": {
      "name": "interactive_eager_few_shot_od_training_colab.ipynb",
      "provenance": []
    },
    "kernelspec": {
      "display_name": "Python 3",
      "name": "python3"
    },
    "language_info": {
      "codemirror_mode": {
        "name": "ipython",
        "version": 3
      },
      "file_extension": ".py",
      "mimetype": "text/x-python",
      "name": "python",
      "nbconvert_exporter": "python",
      "pygments_lexer": "ipython3",
      "version": "3.8.18"
    }
  },
  "nbformat": 4,
  "nbformat_minor": 0
}
